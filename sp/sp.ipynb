{
 "cells": [
  {
   "cell_type": "markdown",
   "id": "866ab757-b988-48f1-a7d8-8b93f2f0bdfa",
   "metadata": {},
   "source": [
    "Title: Skin Disease Classification Using Convolutional Neural Networks (CNN)\n",
    "Objective: To build a CNN model that classifies images of skin diseases into different categories (e.g., acne, eczema, psoriasis, etc.) using the MedMNIST dataset, and evaluate its performance for potential use in health applications."
   ]
  },
  {
   "cell_type": "code",
   "execution_count": null,
   "id": "818a6c9b-4800-4370-9b4b-302f0c231b00",
   "metadata": {},
   "outputs": [],
   "source": [
    "!pip install medmnist"
   ]
  },
  {
   "cell_type": "code",
   "execution_count": 1,
   "id": "d138f216-7a3f-4422-9c6b-991080db03fd",
   "metadata": {},
   "outputs": [
    {
     "ename": "NameError",
     "evalue": "name 'MedMNIST' is not defined",
     "output_type": "error",
     "traceback": [
      "\u001b[31m---------------------------------------------------------------------------\u001b[39m",
      "\u001b[31mNameError\u001b[39m                                 Traceback (most recent call last)",
      "\u001b[36mCell\u001b[39m\u001b[36m \u001b[39m\u001b[32mIn[1]\u001b[39m\u001b[32m, line 1\u001b[39m\n\u001b[32m----> \u001b[39m\u001b[32m1\u001b[39m data = \u001b[43mMedMNIST\u001b[49m(split=\u001b[33m'\u001b[39m\u001b[33mtrain\u001b[39m\u001b[33m'\u001b[39m,download = \u001b[38;5;28;01mTrue\u001b[39;00m)\n\u001b[32m      2\u001b[39m X = data.train_data\n\u001b[32m      3\u001b[39m y= data.train_labels\n",
      "\u001b[31mNameError\u001b[39m: name 'MedMNIST' is not defined"
     ]
    }
   ],
   "source": [
    "data = MedMNIST(split='train',download = True)\n",
    "X = data.train_data\n",
    "y= data.train_labels"
   ]
  },
  {
   "cell_type": "code",
   "execution_count": null,
   "id": "7bbf4007-8913-4c04-99ca-69ec3f71d788",
   "metadata": {},
   "outputs": [],
   "source": []
  }
 ],
 "metadata": {
  "kernelspec": {
   "display_name": "Python 3 (ipykernel)",
   "language": "python",
   "name": "python3"
  },
  "language_info": {
   "codemirror_mode": {
    "name": "ipython",
    "version": 3
   },
   "file_extension": ".py",
   "mimetype": "text/x-python",
   "name": "python",
   "nbconvert_exporter": "python",
   "pygments_lexer": "ipython3",
   "version": "3.12.9"
  }
 },
 "nbformat": 4,
 "nbformat_minor": 5
}
